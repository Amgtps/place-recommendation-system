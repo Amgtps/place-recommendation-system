{
 "cells": [
  {
   "cell_type": "code",
   "execution_count": 3,
   "id": "082ae95e-5729-469a-a1d4-5458919744db",
   "metadata": {},
   "outputs": [],
   "source": [
    "import pandas as pd\n",
    "\n",
    "# Replace 'file1.csv' and 'file2.csv' with the names of your CSV files\n",
    "df1 = pd.read_csv('City1.csv')\n",
    "df2 = pd.read_csv('new_city.csv')\n",
    "\n",
    "# Replace 'common_column_name' with the name of the common column between the two files\n",
    "merged_df = pd.merge(df1, df2, on='city_name', how ='outer')\n",
    "\n",
    "# Replace 'merged_file.csv' with the name of the file you want to save the merged data to\n",
    "merged_df.to_csv('merged_file.csv', index=False)\n"
   ]
  },
  {
   "cell_type": "code",
   "execution_count": 3,
   "id": "42b4959b-c630-4096-b21b-fab775ef3f93",
   "metadata": {},
   "outputs": [
    {
     "name": "stderr",
     "output_type": "stream",
     "text": [
      "100%|████████████████████████████████████████████████████████████████████████████████| 829/829 [07:03<00:00,  1.96it/s]\n"
     ]
    }
   ],
   "source": [
    "import pandas as pd\n",
    "from geopy.geocoders import Nominatim\n",
    "from tqdm import tqdm\n",
    "\n",
    "# Replace 'filename.csv' with the name of your CSV file\n",
    "df = pd.read_csv('All csv Files/file.csv')\n",
    "\n",
    "# Replace 'places' with the name of the column containing the place names\n",
    "places = df['place']\n",
    "\n",
    "geolocator = Nominatim(user_agent='my-custom-application')\n",
    "\n",
    "# Create empty lists to store latitude and longitude values\n",
    "latitudes = []\n",
    "longitudes = []\n",
    "\n",
    "for place in tqdm(places):\n",
    "    try:\n",
    "        location = geolocator.geocode(place + ', India', timeout=10)\n",
    "        if location:\n",
    "            latitude = location.latitude\n",
    "            longitude = location.longitude\n",
    "        else:\n",
    "            latitude = None\n",
    "            longitude = None\n",
    "    except Exception as e:\n",
    "        print(f\"Geocoding failed for {place}: {str(e)}\")\n",
    "        latitude = None\n",
    "        longitude = None\n",
    "    latitudes.append(latitude)\n",
    "    longitudes.append(longitude)\n",
    "\n",
    "# Add the latitude and longitude lists as new columns to the DataFrame\n",
    "df['latitude'] = latitudes\n",
    "df['longitude'] = longitudes\n",
    "\n",
    "# Replace 'new_filename.csv' with the name of the file you want to save the updated DataFrame to\n",
    "df.to_csv('new_file.csv', index=False)\n"
   ]
  },
  {
   "cell_type": "code",
   "execution_count": 1,
   "id": "f5538f38-6b99-4abf-a31e-3892f5cbdd68",
   "metadata": {},
   "outputs": [
    {
     "ename": "NameError",
     "evalue": "name 'pd' is not defined",
     "output_type": "error",
     "traceback": [
      "\u001b[1;31m---------------------------------------------------------------------------\u001b[0m",
      "\u001b[1;31mNameError\u001b[0m                                 Traceback (most recent call last)",
      "\u001b[1;32m~\\AppData\\Local\\Temp\\ipykernel_14312\\3081594135.py\u001b[0m in \u001b[0;36m<module>\u001b[1;34m\u001b[0m\n\u001b[1;32m----> 1\u001b[1;33m \u001b[0mpd\u001b[0m\u001b[1;33m.\u001b[0m\u001b[0mread_csv\u001b[0m\u001b[1;33m(\u001b[0m\u001b[1;34m\"main_cleaned.csv\"\u001b[0m\u001b[1;33m)\u001b[0m\u001b[1;33m\u001b[0m\u001b[1;33m\u001b[0m\u001b[0m\n\u001b[0m",
      "\u001b[1;31mNameError\u001b[0m: name 'pd' is not defined"
     ]
    }
   ],
   "source": []
  },
  {
   "cell_type": "code",
   "execution_count": null,
   "id": "8594c7ce-4f51-46e5-a081-d41ba78376a6",
   "metadata": {},
   "outputs": [],
   "source": []
  }
 ],
 "metadata": {
  "kernelspec": {
   "display_name": "Python 3 (ipykernel)",
   "language": "python",
   "name": "python3"
  },
  "language_info": {
   "codemirror_mode": {
    "name": "ipython",
    "version": 3
   },
   "file_extension": ".py",
   "mimetype": "text/x-python",
   "name": "python",
   "nbconvert_exporter": "python",
   "pygments_lexer": "ipython3",
   "version": "3.9.13"
  }
 },
 "nbformat": 4,
 "nbformat_minor": 5
}
