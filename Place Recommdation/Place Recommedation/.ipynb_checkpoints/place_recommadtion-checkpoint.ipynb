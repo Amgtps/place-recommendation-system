{
 "cells": [
  {
   "cell_type": "code",
   "execution_count": 1,
   "id": "aeaa7ead-1d9e-460a-a24c-c58e4d28c801",
   "metadata": {},
   "outputs": [],
   "source": [
    "import pandas as pd\n",
    "import numpy as np\n",
    "from sklearn.feature_extraction.text import TfidfVectorizer\n",
    "from sklearn.metrics.pairwise import cosine_similarity\n",
    "from geopy.distance import geodesic\n",
    "import warnings\n",
    "warnings.simplefilter('ignore') "
   ]
  },
  {
   "cell_type": "code",
   "execution_count": 2,
   "id": "fe17cfdf-d28c-4514-b1be-7d2194169b70",
   "metadata": {},
   "outputs": [],
   "source": [
    "places_df = pd.read_csv(\"places.csv\")\n",
    "features = [\"state_name\", \"city_name\", \"place\", \"description\", \"best_time\", \"ideal_duration\", \"latitude place\", \"longitude place\", \"Category\"]\n",
    "places_df[\"text_features\"] = places_df[features].apply(lambda x: \" \".join(x.astype(str)), axis=1)\n",
    "vectorizer = TfidfVectorizer()\n",
    "tfidf_matrix = vectorizer.fit_transform(places_df[\"text_features\"])\n",
    "cosine_sim_matrix = cosine_similarity(tfidf_matrix)"
   ]
  },
  {
   "cell_type": "code",
   "execution_count": 3,
   "id": "551fc990-975b-4823-9eba-5ea77ecf0c73",
   "metadata": {},
   "outputs": [],
   "source": [
    "def recommend_places(user_input, num_recommendations):\n",
    "    recommendations_df = pd.DataFrame(columns=[\"place\", \"city_name\",\"state_name\",\"Category\", \"score\", \"distance\"])\n",
    "        \n",
    "    place_index = places_df[places_df[\"place\"]==user_input].index.values[0]\n",
    "    user_latitude = places_df.iloc[place_index][\"latitude place\"]\n",
    "    user_longitude = places_df.iloc[place_index][\"longitude place\"]\n",
    "    user_city = places_df.iloc[place_index][\"city_name\"]\n",
    "    user_state = places_df.iloc[place_index][\"state_name\"]\n",
    "\n",
    "    distances = []\n",
    "    for index, row in places_df.iterrows():\n",
    "        place_latitude = row[\"latitude place\"]\n",
    "        place_longitude = row[\"longitude place\"]\n",
    "        place_city = row[\"city_name\"]\n",
    "        place_state = row[\"state_name\"]\n",
    "        if place_city != user_city or place_state != user_state:\n",
    "            continue\n",
    "        distance = geodesic((user_latitude, user_longitude), (place_latitude, place_longitude)).km\n",
    "        distances.append((index, distance))\n",
    "    \n",
    " \n",
    "    distances = sorted(distances, key=lambda x: x[1])\n",
    "    distances = distances[:5]\n",
    "    \n",
    "\n",
    "    cosine_scores = list(enumerate(cosine_sim_matrix[place_index]))\n",
    "    cosine_scores = sorted(cosine_scores, key=lambda x: x[1], reverse=True)\n",
    "    top_cosine_scores = cosine_scores[1:num_recommendations+1]\n",
    "    \n",
    "    for score in top_cosine_scores:\n",
    "        place_id = score[0]\n",
    "        place_name = places_df.iloc[place_id][\"place\"]\n",
    "        place_category = places_df.iloc[place_id][\"Category\"]\n",
    "        place_score = score[1]\n",
    "        place_distance = None\n",
    "        for d in distances:\n",
    "            if d[0] == place_id:\n",
    "                place_distance = d[1]\n",
    "                break\n",
    "        recommendations_df = recommendations_df.append({\"place\":place_name, \"Category\":place_category, \"score\":place_score, \"distance\":place_distance}, ignore_index=True)\n",
    "    \n",
    "    return recommendations_df"
   ]
  },
  {
   "cell_type": "code",
   "execution_count": 4,
   "id": "09cbdf64-8805-4781-9a72-927656a7e697",
   "metadata": {},
   "outputs": [],
   "source": [
    "user_input = \"Galtaji Temple\"\n",
    "num_recommendations = 5\n",
    "recommendations_df = recommend_places(user_input, num_recommendations)"
   ]
  },
  {
   "cell_type": "code",
   "execution_count": 5,
   "id": "f3d96cd3-9e83-4f27-bdd7-67650b3f0e52",
   "metadata": {},
   "outputs": [
    {
     "name": "stdout",
     "output_type": "stream",
     "text": [
      "Top 5 places similar to Galtaji Temple :\n",
      "1. Garh Ganesh Temple (Category: Temple, Similarity Score: 0.26, Distance: nan km)\n",
      "2. Annamalaiyar Temple (Category: Temple, Similarity Score: 0.225, Distance: nan km)\n",
      "3. Govind Ji Temple (Category: Temple, Similarity Score: 0.218, Distance: 0.0 km)\n",
      "4. Digamber Jain Mandir Sanghiji (Category: Temple, Similarity Score: 0.197, Distance: nan km)\n",
      "5. Khole Ke Hanuman Ji Temple (Category: Temple, Similarity Score: 0.197, Distance: nan km)\n"
     ]
    }
   ],
   "source": [
    "print(f\"Top {num_recommendations} places similar to {user_input} :\")\n",
    "for index, row in recommendations_df.iterrows():\n",
    "    similarity_score = round(row['score'], 3) if row['score'] is not None else \"N/A\"\n",
    "    distance = round(row['distance'], 2) if row['distance'] is not None else \"N/A\"\n",
    "    print(f\"{index+1}. {row['place']} (Category: {row['Category']}, Similarity Score: {similarity_score}, Distance: {distance} km)\")"
   ]
  },
  {
   "cell_type": "code",
   "execution_count": null,
   "id": "43e221ba-332f-42df-9430-e899483e9c87",
   "metadata": {},
   "outputs": [],
   "source": []
  }
 ],
 "metadata": {
  "kernelspec": {
   "display_name": "Python 3 (ipykernel)",
   "language": "python",
   "name": "python3"
  },
  "language_info": {
   "codemirror_mode": {
    "name": "ipython",
    "version": 3
   },
   "file_extension": ".py",
   "mimetype": "text/x-python",
   "name": "python",
   "nbconvert_exporter": "python",
   "pygments_lexer": "ipython3",
   "version": "3.9.13"
  }
 },
 "nbformat": 4,
 "nbformat_minor": 5
}
