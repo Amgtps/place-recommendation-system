{
 "cells": [
  {
   "cell_type": "code",
   "execution_count": 17,
   "id": "9b59a59f-06a4-428b-a4d8-aeaf5cee687e",
   "metadata": {},
   "outputs": [],
   "source": [
    "import pandas as pd\n",
    "\n",
    "# Load the dataset\n",
    "df = pd.read_csv('main.csv')\n",
    "\n",
    "# # Create a dictionary of city names and their corresponding latitude values\n",
    "# city_lat_dict = df.groupby('city_name')['longitude city_name'].mean().to_dict()\n",
    "\n",
    "# # Define a function to fill missing values with the corresponding city's latitude\n",
    "# def fill_lat_place(row):\n",
    "#     if pd.isna(row['longitude place']):\n",
    "#         return city_lat_dict.get(row['city_name'], None)\n",
    "#     else:\n",
    "#         return row['longitude place']\n",
    "\n",
    "# # Apply the function to the 'latitude place' column\n",
    "# df['longitude place'] = df.apply(fill_lat_place, axis=1)\n",
    "\n",
    "# # Save the updated dataframe to a new CSV file\n",
    "# df.to_csv('main.csv', index=False)"
   ]
  },
  {
   "cell_type": "code",
   "execution_count": 19,
   "id": "d5b7ce01-1150-4ff8-8e13-12fbf12f66ca",
   "metadata": {},
   "outputs": [
    {
     "name": "stdout",
     "output_type": "stream",
     "text": [
      "0       NaN\n",
      "1       NaN\n",
      "2       NaN\n",
      "3       NaN\n",
      "4       NaN\n",
      "       ... \n",
      "6043    2.5\n",
      "6044    1.5\n",
      "6045    1.5\n",
      "6046    1.5\n",
      "6047    2.5\n",
      "Name: ideal_duration, Length: 6048, dtype: float64\n"
     ]
    }
   ],
   "source": [
    "\n",
    "\n",
    "\n",
    "# Convert ranges to single values\n",
    "df[\"ideal_duration\"] = df[\"ideal_duration\"].apply(lambda x: (sum(map(int, x.split(\"-\"))))/2 if isinstance(x, str) and \"-\" in x else x)\n",
    "\n",
    "# Convert to numeric format\n",
    "df[\"ideal_duration\"] = pd.to_numeric(df[\"ideal_duration\"], errors=\"coerce\")\n",
    "\n",
    "# Replace missing values with the mean of the column\n",
    "#df[\"ideal_duration\"].fillna(df[\"ideal_duration\"].mean(), inplace=True)\n",
    "\n",
    "# Print the first 10 rows to verify the conversion\n",
    "print(df[\"ideal_duration\"])\n",
    "df.to_csv('main1.csv', index=False)"
   ]
  },
  {
   "cell_type": "code",
   "execution_count": 21,
   "id": "f6856207-4043-4d99-848c-2032d7214b54",
   "metadata": {},
   "outputs": [],
   "source": [
    "df = pd.read_csv('main1.csv')\n",
    "df['ideal_duration'].fillna(method='ffill', inplace=True)\n",
    "df.to_csv(\"main_cleaned.csv\", index=False)"
   ]
  },
  {
   "cell_type": "code",
   "execution_count": 5,
   "id": "8236a0f0-033a-4d70-b5ea-1c4acf5261c3",
   "metadata": {},
   "outputs": [],
   "source": [
    "import pandas as pd\n",
    "\n",
    "# read in the main and main1 CSV files\n",
    "df1 = pd.read_csv('main1.csv')\n",
    "df2 = pd.read_csv('All csv Files/Top 90 citys in India.csv')\n",
    "\n",
    "# merge the two dataframes based on the 'place' column\n",
    "merged_df = pd.merge(df1,df2, on='place', how='outer', suffixes=('_main', '_main1'))\n",
    "\n",
    "# loop through each row in the merged dataframe and check if the 'place' value is missing in the 'main' dataframe\n",
    "for index, row in merged_df.iterrows():\n",
    "    if pd.isnull(row['place']):\n",
    "        # if the 'place' value is missing in the 'main' dataframe, copy it from the 'main1' dataframe\n",
    "        merged_df.at[index, 'place'] = row['place']\n",
    "        merged_df.at[index, 'description_main'] = row['description_main1']\n",
    "    \n",
    "\n",
    "# drop the columns from the 'main1' dataframe that were duplicated in the merge\n",
    "#merged_df.drop(['place_main1', 'address_main1',], axis=1, inplace=True)\n",
    "\n",
    "# write the merged dataframe to a new CSV file\n",
    "merged_df.to_csv('merged.csv', index=False)\n"
   ]
  },
  {
   "cell_type": "code",
   "execution_count": null,
   "id": "f665d290-8873-4572-a1a2-3df01e875f9f",
   "metadata": {},
   "outputs": [],
   "source": []
  }
 ],
 "metadata": {
  "kernelspec": {
   "display_name": "Python 3 (ipykernel)",
   "language": "python",
   "name": "python3"
  },
  "language_info": {
   "codemirror_mode": {
    "name": "ipython",
    "version": 3
   },
   "file_extension": ".py",
   "mimetype": "text/x-python",
   "name": "python",
   "nbconvert_exporter": "python",
   "pygments_lexer": "ipython3",
   "version": "3.9.13"
  }
 },
 "nbformat": 4,
 "nbformat_minor": 5
}
